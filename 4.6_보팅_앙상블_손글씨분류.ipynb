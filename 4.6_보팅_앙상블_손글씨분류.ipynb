{
 "cells": [
  {
   "cell_type": "markdown",
   "metadata": {},
   "source": [
    "# 보팅 앙상블\n",
    "\n",
    "단일 모델을 앙상블하여 더 나은 예측을 하는 앙상블 모델을 만들어본다"
   ]
  },
  {
   "cell_type": "code",
   "execution_count": 1,
   "metadata": {},
   "outputs": [],
   "source": [
    "from sklearn import datasets\n",
    "from sklearn import tree\n",
    "from sklearn.neighbors import KNeighborsClassifier\n",
    "from sklearn.svm import SVC\n",
    "from sklearn.ensemble import VotingClassifier\n",
    "from sklearn.model_selection import train_test_split\n",
    "from sklearn.metrics import accuracy_score"
   ]
  },
  {
   "cell_type": "markdown",
   "metadata": {},
   "source": [
    "### 손글씨 데이터 로드"
   ]
  },
  {
   "cell_type": "code",
   "execution_count": 2,
   "metadata": {},
   "outputs": [],
   "source": [
    "mnist = datasets.load_digits()\n",
    "features, labels = mnist.data, mnist.target\n",
    "X_train,X_test,y_train,y_test=train_test_split(features,labels,test_size=0.2)"
   ]
  },
  {
   "cell_type": "markdown",
   "metadata": {},
   "source": [
    "## 단일 모델의 정확도 측정\n",
    "\n",
    "의사결정트리, knn, svm 모델의 정확도를 측정한다."
   ]
  },
  {
   "cell_type": "code",
   "execution_count": 3,
   "metadata": {},
   "outputs": [],
   "source": [
    "dtree = tree.DecisionTreeClassifier(criterion='gini', max_depth=8, max_features=32, random_state=35)\n",
    "dtree = dtree.fit(X_train, y_train)\n",
    "dtree_predicted = dtree.predict(X_test)\n",
    "\n",
    "knn = KNeighborsClassifier(n_neighbors=299).fit(X_train, y_train)\n",
    "knn_predicted = knn.predict(X_test)\n",
    "\n",
    "svm = SVC(C=0.1, gamma=0.003, probability=True, random_state=35).fit(X_train, y_train)\n",
    "svm_predicted = svm.predict(X_test)"
   ]
  },
  {
   "cell_type": "code",
   "execution_count": 4,
   "metadata": {},
   "outputs": [
    {
     "name": "stdout",
     "output_type": "stream",
     "text": [
      "[accuracy]\n",
      "d-tree:  0.7611111111111111\n",
      "knn   :  0.8083333333333333\n",
      "svm.  :  0.8194444444444444\n"
     ]
    }
   ],
   "source": [
    "print('[accuracy]')\n",
    "print('d-tree: ', accuracy_score(y_test, dtree_predicted))\n",
    "print('knn   : ', accuracy_score(y_test, knn_predicted))\n",
    "print('svm.  : ', accuracy_score(y_test, svm_predicted))"
   ]
  },
  {
   "cell_type": "markdown",
   "metadata": {},
   "source": [
    "## 분류값별 확률 확인\n",
    "소프트 보팅 또는 하드 보팅은 사이킷런의 voting classifier를 사용해 쉽게 구현할 수 있다.  \n",
    "직접 소프트 보팅을 구현할 때는 predict_proba 함수를 사용하여 테스트 수행 시 측정된 분류값 별 확률을 사용하면 된다. "
   ]
  },
  {
   "cell_type": "markdown",
   "metadata": {},
   "source": [
    "아래는 SVM으로부터 나온 테스트 데이터 2개의 0부터 9까지의 확률을 볼 수 있다."
   ]
  },
  {
   "cell_type": "code",
   "execution_count": 6,
   "metadata": {},
   "outputs": [
    {
     "name": "stdout",
     "output_type": "stream",
     "text": [
      "[[0.00730732 0.03188592 0.63987215 0.01744391 0.0230208  0.0193824\n",
      "  0.00798126 0.01694527 0.20453521 0.03162577]\n",
      " [0.00229853 0.00562826 0.0068469  0.00285671 0.89548869 0.00403142\n",
      "  0.00206652 0.0090767  0.06374138 0.00796489]]\n"
     ]
    }
   ],
   "source": [
    "svm_proba = svm.predict_proba(X_test)\n",
    "print(svm_proba[0:2])"
   ]
  },
  {
   "cell_type": "markdown",
   "metadata": {},
   "source": [
    "### 하드보팅\n",
    "하드 보팅은 일반적으로 투표와 같이, 각각의 분류기의 예측값들을 모아 가장 많은 득표를 받은 예측값으로 최종 결론을 내는 방식이다."
   ]
  },
  {
   "cell_type": "code",
   "execution_count": 7,
   "metadata": {},
   "outputs": [
    {
     "data": {
      "text/plain": [
       "0.8611111111111112"
      ]
     },
     "execution_count": 7,
     "metadata": {},
     "output_type": "execute_result"
    }
   ],
   "source": [
    "voting_clf = VotingClassifier(estimators=[\n",
    "    ('decision_tree', dtree), ('knn', knn), ('svm', svm)],\n",
    "    weights=[1,1,1], voting='hard').fit(X_train, y_train)\n",
    "\n",
    "hard_voting_predicted = voting_clf.predict(X_test)\n",
    "accuracy_score(y_test, hard_voting_predicted)"
   ]
  },
  {
   "cell_type": "markdown",
   "metadata": {},
   "source": [
    "### 소프트보팅\n",
    "소프트 보팅은 각 분류모델의 predicted_proba를 활용해 모든 분류값들의 확률을 더해서 가장 높은 점수를 획득한 분류값으로 최종 결론을 내리는 방식이다"
   ]
  },
  {
   "cell_type": "code",
   "execution_count": 8,
   "metadata": {},
   "outputs": [
    {
     "data": {
      "text/plain": [
       "0.8583333333333333"
      ]
     },
     "execution_count": 8,
     "metadata": {},
     "output_type": "execute_result"
    }
   ],
   "source": [
    "voting_clf = VotingClassifier(estimators=[\n",
    "    ('decision_tree', dtree), ('knn', knn), ('svm', svm)],\n",
    "    weights=[1,1,1], voting='soft').fit(X_train, y_train)\n",
    "\n",
    "soft_voting_predicted = voting_clf.predict(X_test)\n",
    "accuracy_score(y_test, soft_voting_predicted)"
   ]
  },
  {
   "cell_type": "markdown",
   "metadata": {},
   "source": [
    "## 단일 모델과 앙상블 모델의 정확도 비교 시각화\n",
    "\n",
    "정확도를 히스토그램으로 시각화한다."
   ]
  },
  {
   "cell_type": "code",
   "execution_count": 10,
   "metadata": {},
   "outputs": [
    {
     "data": {
      "text/plain": [
       "([<matplotlib.axis.XTick at 0x7f9bacea20f0>,\n",
       "  <matplotlib.axis.XTick at 0x7f9bace8fc88>,\n",
       "  <matplotlib.axis.XTick at 0x7f9bace8f908>,\n",
       "  <matplotlib.axis.XTick at 0x7f9bacedf518>,\n",
       "  <matplotlib.axis.XTick at 0x7f9bacedf9b0>],\n",
       " [Text(0, 0, 'decision tree'),\n",
       "  Text(1, 0, 'knn'),\n",
       "  Text(2, 0, 'svm'),\n",
       "  Text(3, 0, 'hard voting'),\n",
       "  Text(4, 0, 'soft voting')])"
      ]
     },
     "execution_count": 10,
     "metadata": {},
     "output_type": "execute_result"
    },
    {
     "data": {
      "image/png": "[encoded data removed]",
      "text/plain": [
       "<Figure size 432x288 with 1 Axes>"
      ]
     },
     "metadata": {
      "needs_background": "light"
     },
     "output_type": "display_data"
    }
   ],
   "source": [
    "import matplotlib.pyplot as plt\n",
    "import numpy as np\n",
    "%matplotlib inline\n",
    "\n",
    "x = np.arange(5)\n",
    "plt.bar(x, height = [accuracy_score(y_test, dtree_predicted),\n",
    "                     accuracy_score(y_test, knn_predicted),\n",
    "                     accuracy_score(y_test, svm_predicted),\n",
    "                     accuracy_score(y_test, hard_voting_predicted),\n",
    "                     accuracy_score(y_test, soft_voting_predicted)])\n",
    "\n",
    "plt.xticks(x, ['decision tree', 'knn', 'svm', 'hard voting', 'soft voting'])"
   ]
  },
  {
   "cell_type": "code",
   "execution_count": null,
   "metadata": {},
   "outputs": [],
   "source": [
    "하드보팅과 소프트보팅 앙상블의 결과가 다른 모델들보다 높은 것을 확인할 수 있다. 하지만 때로는 단일 모델이 더 나은 정확도를 보일 때도 있다.  \n",
    "알려지지 않은 데이터를 예측해야 하는 분"
   ]
  }
 ],
 "metadata": {
  "kernelspec": {
   "display_name": "Python 3",
   "language": "python",
   "name": "python3"
  },
  "language_info": {
   "codemirror_mode": {
    "name": "ipython",
    "version": 3
   },
   "file_extension": ".py",
   "mimetype": "text/x-python",
   "name": "python",
   "nbconvert_exporter": "python",
   "pygments_lexer": "ipython3",
   "version": "3.7.3"
  }
 },
 "nbformat": 4,
 "nbformat_minor": 4
}
