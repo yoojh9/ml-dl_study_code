{
 "cells": [
  {
   "cell_type": "markdown",
   "metadata": {},
   "source": [
    "# 다중 입력 로지스틱 회귀 모델\n",
    "\n",
    "2개의 입력을 받아 0 또는 1로 출력하는 로지스틱 회귀 모델을 케라스로 구현해본다.  \n",
    "2개의 입력을 받아 1개의 출력을 갖는 대표적인 예로 AND 연산이 있다. 이번 예제는 AND 연산을 통해 로지스틱 회귀를 구현한다.  "
   ]
  },
  {
   "cell_type": "code",
   "execution_count": 1,
   "metadata": {},
   "outputs": [],
   "source": [
    "from keras.models import Sequential\n",
    "from keras.layers import Dense, Activation\n",
    "import numpy as np"
   ]
  },
  {
   "cell_type": "markdown",
   "metadata": {},
   "source": [
    "## 다중 입력 로지스틱 회귀 모델 만들기\n",
    "sigmoid(w1x1 + w2x2 + b)의 형태를 띠는 간단한 로지스틱 회귀를 케라스로 구현한다."
   ]
  },
  {
   "cell_type": "code",
   "execution_count": 2,
   "metadata": {},
   "outputs": [],
   "source": [
    "model = Sequential()\n",
    "# 2개의 입력을 받아 1개의 출력을 리턴한다\n",
    "model.add(Dense(input_dim=2, units=1))\n",
    "# 이전 레이어의 출력값을 입력값으로 받아 시그모이드 출력을 리턴한다\n",
    "model.add(Activation('sigmoid'))\n",
    "# 크로스 엔트로피 비용함수를 사용해 경사하강법으로 학습을 진행한다. binary_accuracy는 출력이 0.5 이상일 경우 1로 판단하고, 이하일 경우 0으로 판단한다\n",
    "model.compile(loss='binary_crossentropy', optimizer='sgd', metrics=['binary_accuracy'])"
   ]
  },
  {
   "cell_type": "markdown",
   "metadata": {},
   "source": [
    "## 데이터 생성\n",
    "모델을 학습하기 위한 데이터를 생성한다."
   ]
  },
  {
   "cell_type": "code",
   "execution_count": 3,
   "metadata": {},
   "outputs": [],
   "source": [
    "X = np.array([(0,0),(0,1),(1,0),(1,1)])\n",
    "Y = np.array([0,0,0,1])"
   ]
  },
  {
   "cell_type": "markdown",
   "metadata": {},
   "source": [
    "## 모델 학습\n",
    "학습을 진행한다. 5000번의 반복 학습을 통해 최적의 w1, w2, b를 찾는다."
   ]
  },
  {
   "cell_type": "code",
   "execution_count": 4,
   "metadata": {},
   "outputs": [
    {
     "data": {
      "text/plain": [
       "<tensorflow.python.keras.callbacks.History at 0x7fc02a2cc898>"
      ]
     },
     "execution_count": 4,
     "metadata": {},
     "output_type": "execute_result"
    }
   ],
   "source": [
    "model.fit(X, Y, epochs=5000, verbose=0)"
   ]
  },
  {
   "cell_type": "markdown",
   "metadata": {},
   "source": [
    "학습 데이터에 따른 실제 모델의 출력값을 확인해본다. (0,0), (0,1), (1,0)에 해당하는 값은 0.5보다 작고, (1,1)에 해당하는 값은 0.5보다 큰 것을 확인할 수 있다."
   ]
  },
  {
   "cell_type": "code",
   "execution_count": 5,
   "metadata": {},
   "outputs": [
    {
     "data": {
      "text/plain": [
       "array([[0.03380436],\n",
       "       [0.20026004],\n",
       "       [0.23043215],\n",
       "       [0.68183875]], dtype=float32)"
      ]
     },
     "execution_count": 5,
     "metadata": {},
     "output_type": "execute_result"
    }
   ],
   "source": [
    "model.predict(X)"
   ]
  },
  {
   "cell_type": "markdown",
   "metadata": {},
   "source": [
    "## 모델 요약\n",
    "model.summary() 명령어를 사용해 모델의 구성이 어떻게 이루어졌는지 확인할 수 있다.  \n",
    "예제의 다중 입력 로지스틱 모델은 w1, w2, b가 첫번째 레이어에 존재하며 학습 과정을 통해 최적의 w1, w2, b가 지정된다.  \n",
    "dense 레이어에 3개의 param이 바로 w1, w2, b이다.  \n",
    "dense 레이어를 선형 회귀 레이어라고 볼 수 있으며, 선형 회귀 레이어의 출력은 activation 레이어의 입력이 된다.  \n",
    "activation 레이어는 시그모이드 함수이며 특별히 학습되는 param은 존재하지 않는다."
   ]
  },
  {
   "cell_type": "code",
   "execution_count": 6,
   "metadata": {},
   "outputs": [
    {
     "name": "stdout",
     "output_type": "stream",
     "text": [
      "Model: \"sequential\"\n",
      "_________________________________________________________________\n",
      "Layer (type)                 Output Shape              Param #   \n",
      "=================================================================\n",
      "dense (Dense)                (None, 1)                 3         \n",
      "_________________________________________________________________\n",
      "activation (Activation)      (None, 1)                 0         \n",
      "=================================================================\n",
      "Total params: 3\n",
      "Trainable params: 3\n",
      "Non-trainable params: 0\n",
      "_________________________________________________________________\n"
     ]
    }
   ],
   "source": [
    "model.summary()"
   ]
  },
  {
   "cell_type": "markdown",
   "metadata": {},
   "source": [
    "첫 번째 레이어에 존재하는 w1, w2, b는 다음 명령어로 확인할 수 있다."
   ]
  },
  {
   "cell_type": "code",
   "execution_count": 7,
   "metadata": {},
   "outputs": [
    {
     "data": {
      "text/plain": [
       "[<tf.Variable 'dense/kernel:0' shape=(2, 1) dtype=float32, numpy=\n",
       " array([[2.1469047],\n",
       "        [1.9681072]], dtype=float32)>,\n",
       " <tf.Variable 'dense/bias:0' shape=(1,) dtype=float32, numpy=array([-3.3527772], dtype=float32)>]"
      ]
     },
     "execution_count": 7,
     "metadata": {},
     "output_type": "execute_result"
    }
   ],
   "source": [
    "model.layers[0].weights"
   ]
  },
  {
   "cell_type": "markdown",
   "metadata": {},
   "source": [
    "학습을 통해 얻어진 최적의 w1, w2, b는 get_weights() 함수로 확인할 수 있다."
   ]
  },
  {
   "cell_type": "code",
   "execution_count": 8,
   "metadata": {},
   "outputs": [
    {
     "data": {
      "text/plain": [
       "[array([[2.1469047],\n",
       "        [1.9681072]], dtype=float32),\n",
       " array([-3.3527772], dtype=float32)]"
      ]
     },
     "execution_count": 8,
     "metadata": {},
     "output_type": "execute_result"
    }
   ],
   "source": [
    "model.layers[0].get_weights()"
   ]
  }
 ],
 "metadata": {
  "kernelspec": {
   "display_name": "Python 3",
   "language": "python",
   "name": "python3"
  },
  "language_info": {
   "codemirror_mode": {
    "name": "ipython",
    "version": 3
   },
   "file_extension": ".py",
   "mimetype": "text/x-python",
   "name": "python",
   "nbconvert_exporter": "python",
   "pygments_lexer": "ipython3",
   "version": "3.7.3"
  }
 },
 "nbformat": 4,
 "nbformat_minor": 4
}
