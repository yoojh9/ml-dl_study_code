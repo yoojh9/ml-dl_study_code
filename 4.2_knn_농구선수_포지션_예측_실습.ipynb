{
 "cells": [
  {
   "cell_type": "code",
   "execution_count": 1,
   "metadata": {},
   "outputs": [],
   "source": [
    "import pandas as pd\n",
    "import pickle\n",
    "import matplotlib.pyplot as plt\n",
    "import seaborn as sns\n",
    "%matplotlib inline"
   ]
  },
  {
   "cell_type": "markdown",
   "metadata": {},
   "source": [
    "# 데이터 불러오기 (학습 데이터, 테스트 데이터)\n",
    "\n",
    "데이터 분석 단계(4.2_농구선수_데이터분석.ipynb)에서 생성한 농구 선수 포지션 예측하기의 학습 데이터 및 테스트 데이터를 로드합니다.\n"
   ]
  },
  {
   "cell_type": "code",
   "execution_count": 2,
   "metadata": {},
   "outputs": [],
   "source": [
    "with open('./data/pkl/basketball_train.pkl', 'rb') as train_data:\n",
    "    train = pickle.load(train_data)\n",
    "    \n",
    "with open('./data/pkl/basketball_test.pkl', 'rb') as test_data:\n",
    "    test = pickle.load(test_data)"
   ]
  },
  {
   "cell_type": "code",
   "execution_count": 3,
   "metadata": {},
   "outputs": [
    {
     "data": {
      "text/html": [
       "<div>\n",
       "<style scoped>\n",
       "    .dataframe tbody tr th:only-of-type {\n",
       "        vertical-align: middle;\n",
       "    }\n",
       "\n",
       "    .dataframe tbody tr th {\n",
       "        vertical-align: top;\n",
       "    }\n",
       "\n",
       "    .dataframe thead th {\n",
       "        text-align: right;\n",
       "    }\n",
       "</style>\n",
       "<table border=\"1\" class=\"dataframe\">\n",
       "  <thead>\n",
       "    <tr style=\"text-align: right;\">\n",
       "      <th></th>\n",
       "      <th>Player</th>\n",
       "      <th>Pos</th>\n",
       "      <th>3P</th>\n",
       "      <th>TRB</th>\n",
       "      <th>BLK</th>\n",
       "    </tr>\n",
       "  </thead>\n",
       "  <tbody>\n",
       "    <tr>\n",
       "      <th>13</th>\n",
       "      <td>Avery Bradley</td>\n",
       "      <td>SG</td>\n",
       "      <td>2.0</td>\n",
       "      <td>6.1</td>\n",
       "      <td>0.2</td>\n",
       "    </tr>\n",
       "    <tr>\n",
       "      <th>40</th>\n",
       "      <td>Montrezl Harrell</td>\n",
       "      <td>C</td>\n",
       "      <td>0.0</td>\n",
       "      <td>3.8</td>\n",
       "      <td>0.7</td>\n",
       "    </tr>\n",
       "    <tr>\n",
       "      <th>49</th>\n",
       "      <td>Rodney Hood</td>\n",
       "      <td>SG</td>\n",
       "      <td>1.9</td>\n",
       "      <td>3.4</td>\n",
       "      <td>0.2</td>\n",
       "    </tr>\n",
       "    <tr>\n",
       "      <th>67</th>\n",
       "      <td>Ben McLemore</td>\n",
       "      <td>SG</td>\n",
       "      <td>1.1</td>\n",
       "      <td>2.1</td>\n",
       "      <td>0.1</td>\n",
       "    </tr>\n",
       "    <tr>\n",
       "      <th>58</th>\n",
       "      <td>Zach LaVine</td>\n",
       "      <td>SG</td>\n",
       "      <td>2.6</td>\n",
       "      <td>3.4</td>\n",
       "      <td>0.2</td>\n",
       "    </tr>\n",
       "    <tr>\n",
       "      <th>...</th>\n",
       "      <td>...</td>\n",
       "      <td>...</td>\n",
       "      <td>...</td>\n",
       "      <td>...</td>\n",
       "      <td>...</td>\n",
       "    </tr>\n",
       "    <tr>\n",
       "      <th>1</th>\n",
       "      <td>Steven Adams</td>\n",
       "      <td>C</td>\n",
       "      <td>0.0</td>\n",
       "      <td>7.7</td>\n",
       "      <td>1.0</td>\n",
       "    </tr>\n",
       "    <tr>\n",
       "      <th>39</th>\n",
       "      <td>Tim Hardaway</td>\n",
       "      <td>SG</td>\n",
       "      <td>1.9</td>\n",
       "      <td>2.8</td>\n",
       "      <td>0.2</td>\n",
       "    </tr>\n",
       "    <tr>\n",
       "      <th>41</th>\n",
       "      <td>Gary Harris</td>\n",
       "      <td>SG</td>\n",
       "      <td>1.9</td>\n",
       "      <td>3.1</td>\n",
       "      <td>0.1</td>\n",
       "    </tr>\n",
       "    <tr>\n",
       "      <th>19</th>\n",
       "      <td>Allen Crabbe</td>\n",
       "      <td>SG</td>\n",
       "      <td>1.7</td>\n",
       "      <td>2.9</td>\n",
       "      <td>0.3</td>\n",
       "    </tr>\n",
       "    <tr>\n",
       "      <th>71</th>\n",
       "      <td>Timofey Mozgov</td>\n",
       "      <td>C</td>\n",
       "      <td>0.0</td>\n",
       "      <td>4.9</td>\n",
       "      <td>0.6</td>\n",
       "    </tr>\n",
       "  </tbody>\n",
       "</table>\n",
       "<p>80 rows × 5 columns</p>\n",
       "</div>"
      ],
      "text/plain": [
       "              Player Pos   3P  TRB  BLK\n",
       "13     Avery Bradley  SG  2.0  6.1  0.2\n",
       "40  Montrezl Harrell   C  0.0  3.8  0.7\n",
       "49       Rodney Hood  SG  1.9  3.4  0.2\n",
       "67      Ben McLemore  SG  1.1  2.1  0.1\n",
       "58       Zach LaVine  SG  2.6  3.4  0.2\n",
       "..               ...  ..  ...  ...  ...\n",
       "1       Steven Adams   C  0.0  7.7  1.0\n",
       "39      Tim Hardaway  SG  1.9  2.8  0.2\n",
       "41       Gary Harris  SG  1.9  3.1  0.1\n",
       "19      Allen Crabbe  SG  1.7  2.9  0.3\n",
       "71    Timofey Mozgov   C  0.0  4.9  0.6\n",
       "\n",
       "[80 rows x 5 columns]"
      ]
     },
     "execution_count": 3,
     "metadata": {},
     "output_type": "execute_result"
    }
   ],
   "source": [
    "train"
   ]
  },
  {
   "cell_type": "markdown",
   "metadata": {},
   "source": [
    "# 최적의 KNN 파라미터 찾기"
   ]
  },
  {
   "cell_type": "markdown",
   "metadata": {},
   "source": [
    "- 사이킷런의 cross_val_score를 사용하면 손쉽게 KNN 모델 교차 검증(cross validation)을 수행할 수 있다.\n",
    "- 이번 예제에 사용되는 교차 검증은 k-fold 교차 검증이며, k-fold 교차 검증이란 기존 데이터를 k개로 나눠서 k번 정확도를 검증하는 방법이다"
   ]
  },
  {
   "cell_type": "code",
   "execution_count": 4,
   "metadata": {},
   "outputs": [],
   "source": [
    "# import kNN library\n",
    "from sklearn.neighbors import KNeighborsClassifier\n",
    "from sklearn.model_selection import cross_val_score"
   ]
  },
  {
   "cell_type": "code",
   "execution_count": 11,
   "metadata": {},
   "outputs": [
    {
     "name": "stdout",
     "output_type": "stream",
     "text": [
      "[1.    0.875 1.    1.    1.    0.75  1.    0.75  1.    1.   ]\n",
      "[0.875 0.875 1.    1.    1.    0.75  1.    0.875 1.    1.   ]\n",
      "[0.875 0.875 1.    1.    1.    0.75  1.    1.    1.    1.   ]\n",
      "[1.    0.875 1.    1.    1.    0.75  1.    0.875 0.875 1.   ]\n",
      "[0.875 0.875 1.    1.    1.    0.75  1.    0.875 0.875 1.   ]\n",
      "[0.875 0.875 1.    1.    1.    0.75  1.    0.875 0.875 1.   ]\n",
      "[0.875 0.875 1.    1.    1.    0.75  1.    0.875 0.875 1.   ]\n",
      "[0.875 0.875 1.    1.    1.    0.75  1.    0.875 0.875 1.   ]\n",
      "[0.875 0.875 1.    1.    1.    0.75  1.    0.875 0.875 1.   ]\n",
      "[0.875 0.875 1.    1.    1.    0.75  1.    0.875 0.875 1.   ]\n",
      "[0.875 0.75  1.    1.    1.    0.75  1.    0.75  0.875 1.   ]\n",
      "[0.875 0.75  1.    1.    1.    0.75  1.    0.75  0.875 1.   ]\n",
      "[0.875 0.75  1.    1.    1.    0.625 1.    0.75  0.875 1.   ]\n",
      "[0.875 0.625 1.    1.    1.    0.625 1.    0.75  0.875 1.   ]\n",
      "[0.75  0.625 1.    1.    1.    0.625 1.    0.625 0.75  1.   ]\n",
      "[0.75  0.625 1.    1.    1.    0.625 1.    0.625 0.75  1.   ]\n",
      "[0.75  0.625 1.    1.    1.    0.625 1.    0.625 0.75  1.   ]\n",
      "[0.75  0.625 1.    1.    1.    0.625 0.875 0.625 0.75  1.   ]\n",
      "[0.625 0.625 1.    1.    1.    0.625 0.875 0.5   0.75  1.   ]\n"
     ]
    },
    {
     "data": {
      "text/plain": [
       "[0.9375,\n",
       " 0.9375,\n",
       " 0.95,\n",
       " 0.9375,\n",
       " 0.925,\n",
       " 0.925,\n",
       " 0.925,\n",
       " 0.925,\n",
       " 0.925,\n",
       " 0.925,\n",
       " 0.9,\n",
       " 0.9,\n",
       " 0.8875,\n",
       " 0.875,\n",
       " 0.8375,\n",
       " 0.8375,\n",
       " 0.8375,\n",
       " 0.825,\n",
       " 0.8]"
      ]
     },
     "execution_count": 11,
     "metadata": {},
     "output_type": "execute_result"
    }
   ],
   "source": [
    "# 최적의 K를 찾기 위해 교차 검증을 수행할 k의 범위를 3부터 학습 데이터 절반까지 지정한다\n",
    "max_k_range = train.shape[0]//2\n",
    "k_list=[]\n",
    "\n",
    "for i in range(3, max_k_range, 2):\n",
    "    k_list.append(i)\n",
    "    \n",
    "cross_validation_scores=[]\n",
    "x_train = train[['3P', 'BLK', 'TRB']]\n",
    "y_train = train['Pos']\n",
    "\n",
    "# 교차 검증(10-fold)을 각 k를 대상으로 수행해 검증 결과를 저장\n",
    "for k in k_list:\n",
    "    knn = KNeighborsClassifier(n_neighbors=k)\n",
    "    scores = cross_val_score(knn, x_train, y_train.values, cv=10, scoring='accuracy')\n",
    "    print(scores)\n",
    "    cross_validation_scores.append(scores.mean())\n",
    "\n",
    "cross_validation_scores"
   ]
  },
  {
   "cell_type": "code",
   "execution_count": 6,
   "metadata": {},
   "outputs": [
    {
     "data": {
      "image/png": "[encoded data removed]",
      "text/plain": [
       "<Figure size 432x288 with 1 Axes>"
      ]
     },
     "metadata": {
      "needs_background": "light"
     },
     "output_type": "display_data"
    }
   ],
   "source": [
    "# visualize accuracy according to k\n",
    "plt.plot(k_list, cross_validation_scores)\n",
    "plt.xlabel('the number of k')\n",
    "plt.ylabel('Accuracy')\n",
    "plt.show()"
   ]
  },
  {
   "cell_type": "markdown",
   "metadata": {},
   "source": [
    "시각화를 통해 K가 7일 때 최적임을 알 수 있다. 또한 K가 25개를 넘어서면서 정확도가 많이 떨어지는 것도 확인할 수 있다."
   ]
  },
  {
   "cell_type": "markdown",
   "metadata": {},
   "source": [
    "아래 코드를 실행하여 최적의 k를 k라는 변수에 저장한다."
   ]
  },
  {
   "cell_type": "code",
   "execution_count": 9,
   "metadata": {},
   "outputs": [
    {
     "name": "stdout",
     "output_type": "stream",
     "text": [
      "The best number of k : 7\n"
     ]
    }
   ],
   "source": [
    "# 가장 예측율이 높은 k를 선정\n",
    "k = k_list[cross_validation_scores.index(max(cross_validation_scores))]\n",
    "print('The best number of k : ' + str(k))"
   ]
  },
  {
   "cell_type": "markdown",
   "metadata": {},
   "source": [
    "# 모델 테스트"
   ]
  },
  {
   "cell_type": "code",
   "execution_count": 10,
   "metadata": {},
   "outputs": [
    {
     "name": "stdout",
     "output_type": "stream",
     "text": [
      "accuracy : 0.85\n"
     ]
    }
   ],
   "source": [
    "# 라이브러리 import\n",
    "from sklearn.neighbors import KNeighborsClassifier\n",
    "from sklearn.metrics import accuracy_score\n",
    "\n",
    "knn = KNeighborsClassifier(n_neighbors=k)\n",
    "\n",
    "# 학습에 사용될 속성을 지정\n",
    "x_train = train[['3P','BLK',\"TRB\"]]\n",
    "\n",
    "# 선수 포지션에 예측할 값으로 지정\n",
    "y_train = train['Pos']\n",
    "\n",
    "# KNN 모델 학습\n",
    "knn.fit(x_train, y_train)\n",
    "\n",
    "# 테스트 데이터에서 분류를 위해 사용될 속성을 지정\n",
    "x_test = test[['3P', 'BLK', 'TRB']]\n",
    "y_test = test['Pos']\n",
    "\n",
    "# 테스트 시작\n",
    "pred = knn.predict(x_test)\n",
    "\n",
    "# 모델 예측 정확도(accuracy) 출력\n",
    "print('accuracy : ' + str(accuracy_score(y_test, pred)))\n"
   ]
  },
  {
   "cell_type": "code",
   "execution_count": null,
   "metadata": {},
   "outputs": [],
   "source": []
  }
 ],
 "metadata": {
  "kernelspec": {
   "display_name": "Python 3",
   "language": "python",
   "name": "python3"
  },
  "language_info": {
   "codemirror_mode": {
    "name": "ipython",
    "version": 3
   },
   "file_extension": ".py",
   "mimetype": "text/x-python",
   "name": "python",
   "nbconvert_exporter": "python",
   "pygments_lexer": "ipython3",
   "version": "3.7.3"
  }
 },
 "nbformat": 4,
 "nbformat_minor": 4
}
